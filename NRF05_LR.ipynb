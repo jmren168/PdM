{
  "nbformat": 4,
  "nbformat_minor": 0,
  "metadata": {
    "colab": {
      "name": "NRF05_LR.ipynb",
      "version": "0.3.2",
      "provenance": [],
      "collapsed_sections": [],
      "include_colab_link": true
    },
    "kernelspec": {
      "name": "python3",
      "display_name": "Python 3"
    }
  },
  "cells": [
    {
      "cell_type": "markdown",
      "metadata": {
        "id": "view-in-github",
        "colab_type": "text"
      },
      "source": [
        "<a href=\"https://colab.research.google.com/github/jmren168/PdM/blob/master/NRF05_LR.ipynb\" target=\"_parent\"><img src=\"https://colab.research.google.com/assets/colab-badge.svg\" alt=\"Open In Colab\"/></a>"
      ]
    },
    {
      "cell_type": "code",
      "metadata": {
        "id": "6NajlmqjWzTH",
        "colab_type": "code",
        "outputId": "c9e7eeb6-4a91-42c3-eaa0-fc33a27751f1",
        "colab": {
          "base_uri": "https://localhost:8080/",
          "height": 67
        }
      },
      "source": [
        "from sklearn.datasets import load_digits # digit dataset\n",
        "\n",
        "# load dataset\n",
        "digits = load_digits()\n",
        "\n",
        "# features and target\n",
        "X = digits.data / digits.data.max()\n",
        "y = digits.target\n",
        "\n",
        "from sklearn.linear_model import LogisticRegression # LR for classification\n",
        "from sklearn.model_selection import train_test_split # split訓練及測試資料\n",
        "\n",
        "# split dataset into training and test sets\n",
        "X_train, X_test, y_train, y_test = train_test_split(X, y, test_size=1/3, random_state=0) # 依2:1隨機切割出training set and test set\n",
        "\n",
        "# fit data\n",
        "clf = LogisticRegression(solver='lbfgs', max_iter=1000, multi_class='multinomial', random_state=0) # max_iter: 迭代次數\n",
        "clf.fit(X_train, y_train)\n",
        "\n",
        "# outside prediction\n",
        "y_pred_test = clf.predict(X_test)\n",
        "\n",
        "# inside prediction\n",
        "y_pred_train = clf.predict(X_train)\n",
        "\n",
        "# calculate performance\n",
        "acc_outside = sum((y_test - y_pred_test)==0) / len(y_test) * 100\n",
        "acc_inside = sum((y_train - y_pred_train)==0) / len(y_train) * 100\n",
        "\n",
        "print('LR')\n",
        "print(\"inside accuracy: {:.2f}%\".format(acc_inside))\n",
        "print(\"outside accuracy: {:.2f}%\".format(acc_outside))"
      ],
      "execution_count": 0,
      "outputs": [
        {
          "output_type": "stream",
          "text": [
            "LR\n",
            "inside accuracy: 98.91%\n",
            "outside accuracy: 95.66%\n"
          ],
          "name": "stdout"
        }
      ]
    }
  ]
}