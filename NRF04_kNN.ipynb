{
  "nbformat": 4,
  "nbformat_minor": 0,
  "metadata": {
    "colab": {
      "name": "NRF04_kNN.ipynb",
      "version": "0.3.2",
      "provenance": [],
      "include_colab_link": true
    },
    "kernelspec": {
      "name": "python3",
      "display_name": "Python 3"
    }
  },
  "cells": [
    {
      "cell_type": "markdown",
      "metadata": {
        "id": "view-in-github",
        "colab_type": "text"
      },
      "source": [
        "<a href=\"https://colab.research.google.com/github/jmren168/PdM/blob/master/NRF04_kNN.ipynb\" target=\"_parent\"><img src=\"https://colab.research.google.com/assets/colab-badge.svg\" alt=\"Open In Colab\"/></a>"
      ]
    },
    {
      "cell_type": "code",
      "metadata": {
        "id": "5Yd5_9RROriL",
        "colab_type": "code",
        "outputId": "f7f584c3-3bd6-4aab-dc9a-878656985522",
        "colab": {
          "base_uri": "https://localhost:8080/",
          "height": 67
        }
      },
      "source": [
        "from sklearn.datasets import load_digits # digit dataset\n",
        "\n",
        "# load dataset\n",
        "digits = load_digits()\n",
        "\n",
        "# features and target\n",
        "X = digits.data \n",
        "y = digits.target\n",
        "\n",
        "from sklearn.neighbors import KNeighborsClassifier # knn for classification\n",
        "from sklearn.model_selection import train_test_split # split訓練及測試資料\n",
        "\n",
        "# split dataset into training and test sets\n",
        "X_train, X_test, y_train, y_test = train_test_split(X, y, test_size=1/3, random_state=0) # 依2:1隨機切割出training set and test set\n",
        "\n",
        "# fit data\n",
        "clf = KNeighborsClassifier(n_neighbors=10) # n_neighbors: 鄰居個數\n",
        "clf.fit(X_train, y_train)\n",
        "\n",
        "# outside prediction\n",
        "y_pred_test = clf.predict(X_test)\n",
        "\n",
        "# inside prediction\n",
        "y_pred_train = clf.predict(X_train)\n",
        "\n",
        "# calculate performance\n",
        "acc_outside = sum((y_test - y_pred_test)==0) / len(y_test) * 100\n",
        "acc_inside = sum((y_train - y_pred_train)==0) / len(y_train) * 100\n",
        "\n",
        "print('KNN')\n",
        "print(\"inside accuracy: {:.2f}%\".format(acc_inside))\n",
        "print(\"outside accuracy: {:.2f}%\".format(acc_outside))"
      ],
      "execution_count": 0,
      "outputs": [
        {
          "output_type": "stream",
          "text": [
            "KNN\n",
            "inside accuracy: 98.58%\n",
            "outside accuracy: 97.33%\n"
          ],
          "name": "stdout"
        }
      ]
    },
    {
      "cell_type": "code",
      "metadata": {
        "id": "LkgAMohmQOV8",
        "colab_type": "code",
        "outputId": "4f59098e-faee-4c2a-f4e7-b3dbaa7a3a16",
        "colab": {
          "base_uri": "https://localhost:8080/",
          "height": 300
        }
      },
      "source": [
        "import matplotlib.pyplot as plt\n",
        "\n",
        "# use different values of k to evaluate the performance \n",
        "acc_outside_list=[]\n",
        "acc_inside_list=[]\n",
        "k_range = range(1,200)\n",
        "\n",
        "for k in k_range:\n",
        "  clf = KNeighborsClassifier(n_neighbors=k)\n",
        "  clf.fit(X_train, y_train)\n",
        "  \n",
        "  # outside test\n",
        "  y_pred_test = clf.predict(X_test)\n",
        "  accuracy = sum((y_test - y_pred_test)==0) / len(y_test) * 100\n",
        "  acc_outside_list.append(accuracy)\n",
        "  \n",
        "  # inside test\n",
        "  y_pred_train = clf.predict(X_train)\n",
        "  accuracy = sum((y_train - y_pred_train)==0) / len(y_train) * 100\n",
        "  acc_inside_list.append(accuracy)\n",
        "\n",
        "# plot the accuracy under different values of k\n",
        "plt.plot(k_range, acc_outside_list, 'b*-')\n",
        "plt.plot(k_range, acc_inside_list, 'ro-')\n",
        "plt.xlabel('value of k for knn')\n",
        "plt.ylabel('accuracy')\n",
        "plt.legend(['Outside Test', 'Inside Test'])"
      ],
      "execution_count": 0,
      "outputs": [
        {
          "output_type": "execute_result",
          "data": {
            "text/plain": [
              "<matplotlib.legend.Legend at 0x7fd3abbe32b0>"
            ]
          },
          "metadata": {
            "tags": []
          },
          "execution_count": 25
        },
        {
          "output_type": "display_data",
          "data": {
            "image/png": "[encoded data removed]",
            "text/plain": [
              "<Figure size 432x288 with 1 Axes>"
            ]
          },
          "metadata": {
            "tags": []
          }
        }
      ]
    }
  ]
}