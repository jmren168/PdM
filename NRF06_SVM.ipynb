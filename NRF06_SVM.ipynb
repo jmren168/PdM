{
  "nbformat": 4,
  "nbformat_minor": 0,
  "metadata": {
    "colab": {
      "name": "NRF06_SVM.ipynb",
      "version": "0.3.2",
      "provenance": [],
      "include_colab_link": true
    },
    "kernelspec": {
      "name": "python3",
      "display_name": "Python 3"
    }
  },
  "cells": [
    {
      "cell_type": "markdown",
      "metadata": {
        "id": "view-in-github",
        "colab_type": "text"
      },
      "source": [
        "<a href=\"https://colab.research.google.com/github/jmren168/PdM/blob/master/NRF06_SVM.ipynb\" target=\"_parent\"><img src=\"https://colab.research.google.com/assets/colab-badge.svg\" alt=\"Open In Colab\"/></a>"
      ]
    },
    {
      "cell_type": "code",
      "metadata": {
        "id": "eY2VNnL8aHrw",
        "colab_type": "code",
        "outputId": "ab8bc642-b8f6-4668-f694-aa2a5e11b080",
        "colab": {
          "base_uri": "https://localhost:8080/",
          "height": 121
        }
      },
      "source": [
        "from sklearn.datasets import load_digits # digit dataset\n",
        "\n",
        "# load dataset\n",
        "digits = load_digits()\n",
        "\n",
        "# features and target\n",
        "X = digits.data / digits.data.max()\n",
        "y = digits.target\n",
        "\n",
        "from sklearn.svm import SVC # SVM for classification\n",
        "from sklearn.model_selection import train_test_split # split訓練及測試資料\n",
        "\n",
        "# split dataset into training and test sets\n",
        "X_train, X_test, y_train, y_test = train_test_split(X, y, test_size=1/3, random_state=0) # 依2:1隨機切割出training set and test set\n",
        "\n",
        "# fit data\n",
        "clf = SVC(C=1.0, kernel='rbf') # C: 分錯類別的penalty; kernel: 轉換空間\n",
        "clf.fit(X_train, y_train)\n",
        "\n",
        "# outside prediction\n",
        "y_pred_test = clf.predict(X_test)\n",
        "\n",
        "# inside prediction\n",
        "y_pred_train = clf.predict(X_train)\n",
        "\n",
        "# calculate performance\n",
        "acc_outside = sum((y_test - y_pred_test)==0) / len(y_test) * 100\n",
        "acc_inside = sum((y_train - y_pred_train)==0) / len(y_train) * 100\n",
        "\n",
        "print('SVM')\n",
        "print(\"inside accuracy: {:.2f}%\".format(acc_inside))\n",
        "print(\"outside accuracy: {:.2f}%\".format(acc_outside))"
      ],
      "execution_count": 0,
      "outputs": [
        {
          "output_type": "stream",
          "text": [
            "/usr/local/lib/python3.6/dist-packages/sklearn/svm/base.py:193: FutureWarning: The default value of gamma will change from 'auto' to 'scale' in version 0.22 to account better for unscaled features. Set gamma explicitly to 'auto' or 'scale' to avoid this warning.\n",
            "  \"avoid this warning.\", FutureWarning)\n"
          ],
          "name": "stderr"
        },
        {
          "output_type": "stream",
          "text": [
            "SVM\n",
            "inside accuracy: 96.58%\n",
            "outside accuracy: 95.16%\n"
          ],
          "name": "stdout"
        }
      ]
    }
  ]
}