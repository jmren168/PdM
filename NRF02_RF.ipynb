{
  "nbformat": 4,
  "nbformat_minor": 0,
  "metadata": {
    "colab": {
      "name": "NRF02_RF.ipynb",
      "version": "0.3.2",
      "provenance": [],
      "include_colab_link": true
    },
    "kernelspec": {
      "name": "python3",
      "display_name": "Python 3"
    }
  },
  "cells": [
    {
      "cell_type": "markdown",
      "metadata": {
        "id": "view-in-github",
        "colab_type": "text"
      },
      "source": [
        "<a href=\"https://colab.research.google.com/github/jmren168/PdM/blob/master/NRF02_RF.ipynb\" target=\"_parent\"><img src=\"https://colab.research.google.com/assets/colab-badge.svg\" alt=\"Open In Colab\"/></a>"
      ]
    },
    {
      "cell_type": "code",
      "metadata": {
        "id": "TMU-AlDl_Dm2",
        "colab_type": "code",
        "outputId": "e862f5d1-8417-4663-e642-600f38309bde",
        "colab": {
          "base_uri": "https://localhost:8080/",
          "height": 50
        }
      },
      "source": [
        "from sklearn.datasets import load_iris # iris資料集\n",
        "from sklearn.ensemble import RandomForestClassifier # 隨機森林分類器\n",
        "from sklearn.model_selection import train_test_split # split訓練及測試資料\n",
        "\n",
        "# Load data\n",
        "iris = load_iris()\n",
        "\n",
        "# features and target\n",
        "X = iris.data\n",
        "y = iris.target\n",
        "\n",
        "# split dataset into training and test sets\n",
        "X_train, X_test, y_train, y_test = train_test_split(X, y, test_size=1/3, random_state=0) # 依2:1切割出training/test sets\n",
        "\n",
        "# fit data\n",
        "clf = RandomForestClassifier(n_estimators=50, max_depth=3) # n_estimators: 樹的個數, max_depth: 決策樹的深度\n",
        "clf.fit(X_train, y_train)\n",
        "\n",
        "# outside prediction\n",
        "y_pred_test = clf.predict(X_test)\n",
        "\n",
        "# inside prediction\n",
        "y_pred_train = clf.predict(X_train)\n",
        "\n",
        "# calculate performance\n",
        "acc_outside = sum((y_test - y_pred_test)==0) / len(y_test) * 100\n",
        "acc_inside = sum((y_train - y_pred_train)==0) / len(y_train) * 100\n",
        "\n",
        "print(\"inside accuracy: {:.2f}%\".format(acc_inside))\n",
        "print(\"outside accuracy: {:.2f}%\".format(acc_outside))"
      ],
      "execution_count": 0,
      "outputs": [
        {
          "output_type": "stream",
          "text": [
            "inside accuracy: 97.00%\n",
            "outside accuracy: 96.00%\n"
          ],
          "name": "stdout"
        }
      ]
    }
  ]
}