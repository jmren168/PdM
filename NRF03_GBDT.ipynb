{
  "nbformat": 4,
  "nbformat_minor": 0,
  "metadata": {
    "colab": {
      "name": "NRF03_GBDT.ipynb",
      "version": "0.3.2",
      "provenance": [],
      "collapsed_sections": [],
      "include_colab_link": true
    },
    "kernelspec": {
      "name": "python3",
      "display_name": "Python 3"
    }
  },
  "cells": [
    {
      "cell_type": "markdown",
      "metadata": {
        "id": "view-in-github",
        "colab_type": "text"
      },
      "source": [
        "<a href=\"https://colab.research.google.com/github/jmren168/PdM/blob/master/NRF03_GBDT.ipynb\" target=\"_parent\"><img src=\"https://colab.research.google.com/assets/colab-badge.svg\" alt=\"Open In Colab\"/></a>"
      ]
    },
    {
      "cell_type": "code",
      "metadata": {
        "id": "33zXQPcYETL3",
        "colab_type": "code",
        "outputId": "444bf279-9ff6-46c8-a5c2-946ce91fa26e",
        "colab": {
          "base_uri": "https://localhost:8080/",
          "height": 67
        }
      },
      "source": [
        "import numpy as np\n",
        "from sklearn.datasets import load_digits # digit dataset\n",
        "\n",
        "# load dataset\n",
        "digits = load_digits()\n",
        "\n",
        "# features and target\n",
        "X = digits.data\n",
        "y = digits.target\n",
        "\n",
        "print('# of classes: {:d} '.format(len(np.unique(y))))\n",
        "print('# of features: {:d} '.format(X.shape[1]))\n",
        "print('# of samples: {:d}'.format(X.shape[0]))"
      ],
      "execution_count": 0,
      "outputs": [
        {
          "output_type": "stream",
          "text": [
            "# of classes: 10 \n",
            "# of features: 64 \n",
            "# of samples: 1797\n"
          ],
          "name": "stdout"
        }
      ]
    },
    {
      "cell_type": "code",
      "metadata": {
        "id": "StYal3ymDMmJ",
        "colab_type": "code",
        "outputId": "fb8dab2f-441c-481e-9191-8b0128c59e10",
        "colab": {
          "base_uri": "https://localhost:8080/",
          "height": 140
        }
      },
      "source": [
        "# Ref: https://scikit-learn.org/stable/auto_examples/classification/plot_digits_classification.html\n",
        "\n",
        "import matplotlib.pyplot as plt # plot figures\n",
        "\n",
        "# The data that we are interested in is made of 8x8 images of digits, let's\n",
        "# have a look at the first 4 images, stored in the `images` attribute of the\n",
        "# dataset.  If we were working from image files, we could load them using\n",
        "# matplotlib.pyplot.imread.  Note that each image must have the same size. For these\n",
        "# images, we know which digit they represent: it is given in the 'target' of\n",
        "# the dataset.\n",
        "images_and_labels = list(zip(digits.images, digits.target))\n",
        "plt.figure(figsize=(16,5))\n",
        "for index, (image, label) in enumerate(images_and_labels[:10]):\n",
        "    plt.subplot(2, 10, index + 1)\n",
        "    plt.axis('off')\n",
        "    plt.imshow(image, cmap=plt.cm.gray_r, interpolation='nearest')\n",
        "    plt.title('Training: %i' % label)"
      ],
      "execution_count": 0,
      "outputs": [
        {
          "output_type": "display_data",
          "data": {
            "image/png": "[encoded data removed]",
            "text/plain": [
              "<Figure size 1152x360 with 10 Axes>"
            ]
          },
          "metadata": {
            "tags": []
          }
        }
      ]
    },
    {
      "cell_type": "code",
      "metadata": {
        "id": "Yl8mIDMWCOPr",
        "colab_type": "code",
        "outputId": "5c7ab90d-0e8d-4415-97f9-f8028cb79ae8",
        "colab": {
          "base_uri": "https://localhost:8080/",
          "height": 67
        }
      },
      "source": [
        "from sklearn.ensemble import GradientBoostingClassifier # GBDT for classification\n",
        "from sklearn.model_selection import train_test_split # split訓練及測試資料\n",
        "\n",
        "# split dataset into training and test sets\n",
        "X_train, X_test, y_train, y_test = train_test_split(X, y, test_size=1/3, random_state=0) # 依2:1隨機切割出training set and test set\n",
        "\n",
        "# fit data\n",
        "clf = GradientBoostingClassifier(n_estimators=50, max_depth=3) # n_estimators: 樹的個數, max_depth: 每棵決策樹的深度\n",
        "clf.fit(X_train, y_train)\n",
        "\n",
        "# outside prediction\n",
        "y_pred_test = clf.predict(X_test)\n",
        "\n",
        "# inside prediction\n",
        "y_pred_train = clf.predict(X_train)\n",
        "\n",
        "# calculate performance\n",
        "acc_outside = sum((y_test - y_pred_test)==0) / len(y_test) * 100\n",
        "acc_inside = sum((y_train - y_pred_train)==0) / len(y_train) * 100\n",
        "\n",
        "print('GBDT')\n",
        "print(\"inside accuracy: {:.2f}%\".format(acc_inside))\n",
        "print(\"outside accuracy: {:.2f}%\".format(acc_outside))"
      ],
      "execution_count": 0,
      "outputs": [
        {
          "output_type": "stream",
          "text": [
            "GBDT\n",
            "inside accuracy: 100.00%\n",
            "outside accuracy: 93.32%\n"
          ],
          "name": "stdout"
        }
      ]
    }
  ]
}