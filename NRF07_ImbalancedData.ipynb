{
  "nbformat": 4,
  "nbformat_minor": 0,
  "metadata": {
    "colab": {
      "name": "NRF07_ImbalancedData.ipynb",
      "version": "0.3.2",
      "provenance": [],
      "collapsed_sections": [],
      "include_colab_link": true
    },
    "kernelspec": {
      "name": "python3",
      "display_name": "Python 3"
    }
  },
  "cells": [
    {
      "cell_type": "markdown",
      "metadata": {
        "id": "view-in-github",
        "colab_type": "text"
      },
      "source": [
        "<a href=\"https://colab.research.google.com/github/jmren168/PdM/blob/master/NRF07_ImbalancedData.ipynb\" target=\"_parent\"><img src=\"https://colab.research.google.com/assets/colab-badge.svg\" alt=\"Open In Colab\"/></a>"
      ]
    },
    {
      "cell_type": "code",
      "metadata": {
        "id": "CeAMwHlnXvqG",
        "colab_type": "code",
        "outputId": "1830e1ba-4246-416f-8223-e6391297e218",
        "colab": {
          "base_uri": "https://localhost:8080/",
          "height": 390
        }
      },
      "source": [
        "!pip install git+https://github.com/scikit-learn-contrib/imbalanced-learn.git\n",
        "import imblearn"
      ],
      "execution_count": 0,
      "outputs": [
        {
          "output_type": "stream",
          "text": [
            "Collecting git+https://github.com/scikit-learn-contrib/imbalanced-learn.git\n",
            "  Cloning https://github.com/scikit-learn-contrib/imbalanced-learn.git to /tmp/pip-req-build-y062b1gs\n",
            "  Running command git clone -q https://github.com/scikit-learn-contrib/imbalanced-learn.git /tmp/pip-req-build-y062b1gs\n",
            "Requirement already satisfied: numpy>=1.8.2 in /usr/local/lib/python3.6/dist-packages (from imbalanced-learn==0.5.0.dev0) (1.16.4)\n",
            "Requirement already satisfied: scipy>=0.13.3 in /usr/local/lib/python3.6/dist-packages (from imbalanced-learn==0.5.0.dev0) (1.3.0)\n",
            "Requirement already satisfied: scikit-learn>=0.20 in /usr/local/lib/python3.6/dist-packages (from imbalanced-learn==0.5.0.dev0) (0.21.2)\n",
            "Requirement already satisfied: joblib>=0.11 in /usr/local/lib/python3.6/dist-packages (from scikit-learn>=0.20->imbalanced-learn==0.5.0.dev0) (0.13.2)\n",
            "Building wheels for collected packages: imbalanced-learn\n",
            "  Building wheel for imbalanced-learn (setup.py) ... \u001b[?25l\u001b[?25hdone\n",
            "  Stored in directory: /tmp/pip-ephem-wheel-cache-ovo_s74b/wheels/6c/07/cf/38cb9b7cc9e6a0ac7648a80ec192b6f2d863405fb0049ac0ff\n",
            "Successfully built imbalanced-learn\n",
            "Installing collected packages: imbalanced-learn\n",
            "  Found existing installation: imbalanced-learn 0.4.3\n",
            "    Uninstalling imbalanced-learn-0.4.3:\n",
            "      Successfully uninstalled imbalanced-learn-0.4.3\n",
            "Successfully installed imbalanced-learn-0.5.0.dev0\n"
          ],
          "name": "stdout"
        },
        {
          "output_type": "stream",
          "text": [
            "/usr/local/lib/python3.6/dist-packages/sklearn/externals/six.py:31: DeprecationWarning: The module is deprecated in version 0.21 and will be removed in version 0.23 since we've dropped support for Python 2.7. Please rely on the official version of six (https://pypi.org/project/six/).\n",
            "  \"(https://pypi.org/project/six/).\", DeprecationWarning)\n",
            "/usr/local/lib/python3.6/dist-packages/sklearn/externals/joblib/__init__.py:15: DeprecationWarning: sklearn.externals.joblib is deprecated in 0.21 and will be removed in 0.23. Please import this functionality directly from joblib, which can be installed with: pip install joblib. If this warning is raised when loading pickled models, you may need to re-serialize those models with scikit-learn 0.21+.\n",
            "  warnings.warn(msg, category=DeprecationWarning)\n",
            "Using TensorFlow backend.\n"
          ],
          "name": "stderr"
        }
      ]
    },
    {
      "cell_type": "code",
      "metadata": {
        "id": "jBtZFCk3KBsK",
        "colab_type": "code",
        "outputId": "c4ae21e8-2a03-455a-a7d6-aa87b724a10c",
        "colab": {
          "base_uri": "https://localhost:8080/",
          "height": 322
        }
      },
      "source": [
        "# download dataset\n",
        "!wget --no-check-certificate \"https://drive.google.com/uc?export=download&id=1hpCceb4EOt6Exh5LYJqlPWJocUHyI0Bg\" -O data.npz  \n",
        "import numpy as np\n",
        "\n",
        "data = np.load('data.npz')\n",
        "X,y = data['data'],data['label']"
      ],
      "execution_count": 0,
      "outputs": [
        {
          "output_type": "stream",
          "text": [
            "--2019-06-02 10:03:57--  https://drive.google.com/uc?export=download&id=1hpCceb4EOt6Exh5LYJqlPWJocUHyI0Bg\n",
            "Resolving drive.google.com (drive.google.com)... 74.125.195.102, 74.125.195.138, 74.125.195.100, ...\n",
            "Connecting to drive.google.com (drive.google.com)|74.125.195.102|:443... connected.\n",
            "HTTP request sent, awaiting response... 302 Moved Temporarily\n",
            "Location: https://doc-00-48-docs.googleusercontent.com/docs/securesc/ha0ro937gcuc7l7deffksulhg5h7mbp1/mu88i469p0ot3d9snsos21ahrbm3ac75/1559469600000/01426934028188100870/*/1hpCceb4EOt6Exh5LYJqlPWJocUHyI0Bg?e=download [following]\n",
            "Warning: wildcards not supported in HTTP.\n",
            "--2019-06-02 10:03:58--  https://doc-00-48-docs.googleusercontent.com/docs/securesc/ha0ro937gcuc7l7deffksulhg5h7mbp1/mu88i469p0ot3d9snsos21ahrbm3ac75/1559469600000/01426934028188100870/*/1hpCceb4EOt6Exh5LYJqlPWJocUHyI0Bg?e=download\n",
            "Resolving doc-00-48-docs.googleusercontent.com (doc-00-48-docs.googleusercontent.com)... 74.125.20.132, 2607:f8b0:400e:c07::84\n",
            "Connecting to doc-00-48-docs.googleusercontent.com (doc-00-48-docs.googleusercontent.com)|74.125.20.132|:443... connected.\n",
            "HTTP request sent, awaiting response... 200 OK\n",
            "Length: 304496 (297K) [application/x-zip]\n",
            "Saving to: ‘data.npz’\n",
            "\n",
            "data.npz            100%[===================>] 297.36K  --.-KB/s    in 0.003s  \n",
            "\n",
            "2019-06-02 10:03:58 (93.9 MB/s) - ‘data.npz’ saved [304496/304496]\n",
            "\n"
          ],
          "name": "stdout"
        }
      ]
    },
    {
      "cell_type": "code",
      "metadata": {
        "id": "yWHRrF0ZdLTu",
        "colab_type": "code",
        "outputId": "4471619d-4eec-4b72-911e-83771a3ffaef",
        "colab": {
          "base_uri": "https://localhost:8080/",
          "height": 513
        }
      },
      "source": [
        "# plot data distribution\n",
        "import matplotlib.pyplot as plt\n",
        "\n",
        "plt.figure(figsize=(8,8))\n",
        "unique, counts = np.unique(y, return_counts=True)\n",
        "\n",
        "plt.bar(unique,counts)\n",
        "plt.title('Class Frequency')\n",
        "plt.xticks([-1,1])\n",
        "plt.xlabel('Class')\n",
        "plt.ylabel('Frequency')\n",
        "plt.show()"
      ],
      "execution_count": 0,
      "outputs": [
        {
          "output_type": "display_data",
          "data": {
            "image/png": "[encoded data removed]",
            "text/plain": [
              "<Figure size 576x576 with 1 Axes>"
            ]
          },
          "metadata": {
            "tags": []
          }
        }
      ]
    },
    {
      "cell_type": "markdown",
      "metadata": {
        "id": "Il_hYlPojVVt",
        "colab_type": "text"
      },
      "source": [
        "# Use SVM as a classifier to evaluate the performance on imbalanced dataset"
      ]
    },
    {
      "cell_type": "code",
      "metadata": {
        "id": "OeobnqJ0hQee",
        "colab_type": "code",
        "outputId": "4fc41e25-65f3-483d-a7b9-b65b01d53aea",
        "colab": {
          "base_uri": "https://localhost:8080/",
          "height": 121
        }
      },
      "source": [
        "from sklearn.svm import SVC # SVM for classification\n",
        "from sklearn.model_selection import train_test_split # split訓練及測試資料\n",
        "\n",
        "# split dataset into training and test sets\n",
        "X_train, X_test, y_train, y_test = train_test_split(X, y, test_size=1/3, random_state=0) # 依2:1隨機切割出training set and test set\n",
        "\n",
        "# fit data\n",
        "clf = SVC(C=1.0, kernel='rbf') # C: 分錯類別的penalty; kernel: 轉換空間\n",
        "clf.fit(X_train, y_train)\n",
        "\n",
        "# outside prediction\n",
        "y_pred_test = clf.predict(X_test)\n",
        "\n",
        "# inside prediction\n",
        "y_pred_train = clf.predict(X_train)\n",
        "\n",
        "# calculate performance\n",
        "acc_outside = sum((y_test - y_pred_test)==0) / len(y_test) * 100\n",
        "acc_inside = sum((y_train - y_pred_train)==0) / len(y_train) * 100\n",
        "\n",
        "print('SVM')\n",
        "print(\"inside accuracy: {:.2f}%\".format(acc_inside))\n",
        "print(\"outside accuracy: {:.2f}%\".format(acc_outside))"
      ],
      "execution_count": 0,
      "outputs": [
        {
          "output_type": "stream",
          "text": [
            "SVM\n",
            "inside accuracy: 95.23%\n",
            "outside accuracy: 94.27%\n"
          ],
          "name": "stdout"
        },
        {
          "output_type": "stream",
          "text": [
            "/usr/local/lib/python3.6/dist-packages/sklearn/svm/base.py:193: FutureWarning: The default value of gamma will change from 'auto' to 'scale' in version 0.22 to account better for unscaled features. Set gamma explicitly to 'auto' or 'scale' to avoid this warning.\n",
            "  \"avoid this warning.\", FutureWarning)\n"
          ],
          "name": "stderr"
        }
      ]
    },
    {
      "cell_type": "markdown",
      "metadata": {
        "id": "x2RU2PhhiJ5L",
        "colab_type": "text"
      },
      "source": [
        "# Is **HIGH** accuracy always good?"
      ]
    },
    {
      "cell_type": "markdown",
      "metadata": {
        "id": "kQ6QgHlYjiw1",
        "colab_type": "text"
      },
      "source": [
        "# Let's see the confusion matrix of prediction result"
      ]
    },
    {
      "cell_type": "code",
      "metadata": {
        "id": "Xulv31iXihGs",
        "colab_type": "code",
        "outputId": "f7b83179-1cad-41e9-a6e9-625f3537ed3e",
        "colab": {
          "base_uri": "https://localhost:8080/",
          "height": 330
        }
      },
      "source": [
        "# ref: https://www.kaggle.com/rafjaa/resampling-strategies-for-imbalanced-datasets\n",
        "\n",
        "# show confusion matrix\n",
        "from sklearn.metrics import confusion_matrix\n",
        "from matplotlib import pyplot as plt\n",
        "\n",
        "conf_mat = confusion_matrix(y_true=y_test, y_pred=y_pred_test)\n",
        "print('Confusion matrix:\\n', conf_mat)\n",
        "labels = ['Class -1', 'Class  1']\n",
        "\n",
        "\n",
        "fig = plt.figure()\n",
        "ax = fig.add_subplot(111)\n",
        "cax = ax.matshow(conf_mat, cmap=plt.cm.Blues)\n",
        "fig.colorbar(cax)\n",
        "ax.set_xticklabels([''] + labels)\n",
        "ax.set_yticklabels([''] + labels)\n",
        "plt.xlabel('Predicted')\n",
        "plt.ylabel('Expected')\n",
        "plt.show()"
      ],
      "execution_count": 0,
      "outputs": [
        {
          "output_type": "stream",
          "text": [
            "Confusion matrix:\n",
            " [[529   0]\n",
            " [ 33  14]]\n"
          ],
          "name": "stdout"
        },
        {
          "output_type": "display_data",
          "data": {
            "image/png": "[encoded data removed]",
            "text/plain": [
              "<Figure size 432x288 with 2 Axes>"
            ]
          },
          "metadata": {
            "tags": []
          }
        }
      ]
    },
    {
      "cell_type": "markdown",
      "metadata": {
        "id": "Mb_Bfhoyjzde",
        "colab_type": "text"
      },
      "source": [
        "# Re-sampling\n",
        "![替代文字](https://raw.githubusercontent.com/rafjaa/machine_learning_fecib/master/src/static/img/resampling.png)\n",
        "\n",
        "ref: https://www.kaggle.com/rafjaa/resampling-strategies-for-imbalanced-datasets"
      ]
    },
    {
      "cell_type": "markdown",
      "metadata": {
        "id": "UY5tpXHBkvHQ",
        "colab_type": "text"
      },
      "source": [
        "#Oversampling Minority Class"
      ]
    },
    {
      "cell_type": "code",
      "metadata": {
        "id": "PZkamusskD69",
        "colab_type": "code",
        "outputId": "9258f0db-7664-4c5e-ce99-48653bb8b408",
        "colab": {
          "base_uri": "https://localhost:8080/",
          "height": 513
        }
      },
      "source": [
        "from imblearn.over_sampling import RandomOverSampler\n",
        "\n",
        "clf = RandomOverSampler(random_state=0)\n",
        "X_res, y_res = clf.fit_resample(X,y)\n",
        "\n",
        "plt.figure(figsize=(8,8))\n",
        "unique, counts = np.unique(y_res, return_counts=True)\n",
        "\n",
        "plt.bar(unique,counts)\n",
        "plt.title('Class Frequency After Oversampling Minority Class')\n",
        "plt.xticks([-1,1])\n",
        "plt.xlabel('Class')\n",
        "plt.ylabel('Frequency')\n",
        "plt.show()"
      ],
      "execution_count": 0,
      "outputs": [
        {
          "output_type": "display_data",
          "data": {
            "image/png": "[encoded data removed]",
            "text/plain": [
              "<Figure size 576x576 with 1 Axes>"
            ]
          },
          "metadata": {
            "tags": []
          }
        }
      ]
    },
    {
      "cell_type": "markdown",
      "metadata": {
        "id": "dlYbgvirlvBK",
        "colab_type": "text"
      },
      "source": [
        "# We train SVM on the sampled dataset, and then use it to evaluate the original test set"
      ]
    },
    {
      "cell_type": "code",
      "metadata": {
        "id": "fu6tsKbUl7jO",
        "colab_type": "code",
        "outputId": "73a56e05-fdff-4177-dcf4-eaf98abb5b2b",
        "colab": {
          "base_uri": "https://localhost:8080/",
          "height": 121
        }
      },
      "source": [
        "from sklearn.svm import SVC # SVM for classification\n",
        "from sklearn.model_selection import train_test_split # split訓練及測試資料\n",
        "\n",
        "# split dataset into training and test sets\n",
        "X_train, X_test, y_train, y_test = train_test_split(X, y, test_size=1/3, random_state=0) # 依2:1隨機切割出training set and test set\n",
        "\n",
        "# balanced training dataset\n",
        "ROS = RandomOverSampler(random_state=0)\n",
        "X_train_res, y_train_res = ROS.fit_resample(X_train,y_train)\n",
        "\n",
        "# fit data\n",
        "SVM = SVC(C=1.0, kernel='rbf') # C: 分錯類別的penalty; kernel: 轉換空間\n",
        "SVM.fit(X_train_res, y_train_res)\n",
        "\n",
        "# outside prediction\n",
        "y_pred_test = SVM.predict(X_test)\n",
        "\n",
        "# inside prediction\n",
        "y_pred_train_res = SVM.predict(X_train_res)\n",
        "\n",
        "# calculate performance\n",
        "acc_outside = sum((y_test - y_pred_test)==0) / len(y_test) * 100\n",
        "acc_inside = sum((y_train_res - y_pred_train_res)==0) / len(y_train_res) * 100\n",
        "\n",
        "print('SVM')\n",
        "print(\"inside accuracy: {:.2f}%\".format(acc_inside))\n",
        "print(\"outside accuracy: {:.2f}%\".format(acc_outside))"
      ],
      "execution_count": 0,
      "outputs": [
        {
          "output_type": "stream",
          "text": [
            "SVM\n",
            "inside accuracy: 97.28%\n",
            "outside accuracy: 94.44%\n"
          ],
          "name": "stdout"
        },
        {
          "output_type": "stream",
          "text": [
            "/usr/local/lib/python3.6/dist-packages/sklearn/svm/base.py:193: FutureWarning: The default value of gamma will change from 'auto' to 'scale' in version 0.22 to account better for unscaled features. Set gamma explicitly to 'auto' or 'scale' to avoid this warning.\n",
            "  \"avoid this warning.\", FutureWarning)\n"
          ],
          "name": "stderr"
        }
      ]
    },
    {
      "cell_type": "markdown",
      "metadata": {
        "id": "mGTAl0NOm87-",
        "colab_type": "text"
      },
      "source": [
        "#Show the confusion matrix again"
      ]
    },
    {
      "cell_type": "code",
      "metadata": {
        "id": "cJRHKfPInBPi",
        "colab_type": "code",
        "outputId": "cce8b9d6-7807-4a05-f67b-aea2d8559dc4",
        "colab": {
          "base_uri": "https://localhost:8080/",
          "height": 330
        }
      },
      "source": [
        "conf_mat = confusion_matrix(y_true=y_test, y_pred=y_pred_test)\n",
        "print('Confusion matrix:\\n', conf_mat)\n",
        "\n",
        "labels = ['Class -1', 'Class 1']\n",
        "fig = plt.figure()\n",
        "ax = fig.add_subplot(111)\n",
        "cax = ax.matshow(conf_mat, cmap=plt.cm.Blues)\n",
        "fig.colorbar(cax)\n",
        "ax.set_xticklabels([''] + labels)\n",
        "ax.set_yticklabels([''] + labels)\n",
        "plt.xlabel('Predicted')\n",
        "plt.ylabel('Expected')\n",
        "plt.show()"
      ],
      "execution_count": 0,
      "outputs": [
        {
          "output_type": "stream",
          "text": [
            "Confusion matrix:\n",
            " [[497  32]\n",
            " [  0  47]]\n"
          ],
          "name": "stdout"
        },
        {
          "output_type": "display_data",
          "data": {
            "image/png": "[encoded data removed]",
            "text/plain": [
              "<Figure size 432x288 with 2 Axes>"
            ]
          },
          "metadata": {
            "tags": []
          }
        }
      ]
    },
    {
      "cell_type": "markdown",
      "metadata": {
        "id": "mf6JvygDpVb0",
        "colab_type": "text"
      },
      "source": [
        "# Model-Level Imbalanced Data Processing: use SVM as an example"
      ]
    },
    {
      "cell_type": "code",
      "metadata": {
        "id": "eLVMMBqlpUz-",
        "colab_type": "code",
        "outputId": "3bc3275c-7d8a-43d3-d523-d5a6c72ececb",
        "colab": {
          "base_uri": "https://localhost:8080/",
          "height": 121
        }
      },
      "source": [
        "from sklearn.svm import SVC # SVM for classification\n",
        "from sklearn.model_selection import train_test_split # split訓練及測試資料\n",
        "\n",
        "# split dataset into training and test sets\n",
        "X_train, X_test, y_train, y_test = train_test_split(X, y, test_size=1/3, random_state=0) # 依2:1隨機切割出training set and test set\n",
        "\n",
        "# fit data\n",
        "SVM = SVC(C=1.0, kernel='rbf', class_weight='balanced') # C: 分錯類別的penalty; kernel: 轉換空間\n",
        "SVM.fit(X_train, y_train)\n",
        "\n",
        "# outside prediction\n",
        "y_pred_test = SVM.predict(X_test)\n",
        "\n",
        "# inside prediction\n",
        "y_pred_train = SVM.predict(X_train)\n",
        "\n",
        "# calculate performance\n",
        "acc_outside = sum((y_test - y_pred_test)==0) / len(y_test) * 100\n",
        "acc_inside = sum((y_train - y_pred_train)==0) / len(y_train) * 100\n",
        "\n",
        "print('SVM')\n",
        "print(\"inside accuracy: {:.2f}%\".format(acc_inside))\n",
        "print(\"outside accuracy: {:.2f}%\".format(acc_outside))\n",
        "\n",
        "\n"
      ],
      "execution_count": 0,
      "outputs": [
        {
          "output_type": "stream",
          "text": [
            "SVM\n",
            "inside accuracy: 93.23%\n",
            "outside accuracy: 93.06%\n"
          ],
          "name": "stdout"
        },
        {
          "output_type": "stream",
          "text": [
            "/usr/local/lib/python3.6/dist-packages/sklearn/svm/base.py:193: FutureWarning: The default value of gamma will change from 'auto' to 'scale' in version 0.22 to account better for unscaled features. Set gamma explicitly to 'auto' or 'scale' to avoid this warning.\n",
            "  \"avoid this warning.\", FutureWarning)\n"
          ],
          "name": "stderr"
        }
      ]
    },
    {
      "cell_type": "markdown",
      "metadata": {
        "id": "f2Yy08nJp-WS",
        "colab_type": "text"
      },
      "source": [
        "#Show the confusion matrix of model-level imbalanced data processing"
      ]
    },
    {
      "cell_type": "code",
      "metadata": {
        "id": "SzpLhcHfqJdf",
        "colab_type": "code",
        "outputId": "28878c09-6b89-4a27-91e7-b3ee66081490",
        "colab": {
          "base_uri": "https://localhost:8080/",
          "height": 330
        }
      },
      "source": [
        "conf_mat = confusion_matrix(y_true=y_test, y_pred=y_pred_test)\n",
        "print('Confusion matrix:\\n', conf_mat)\n",
        "\n",
        "labels = ['Class -1', 'Class 1']\n",
        "fig = plt.figure()\n",
        "ax = fig.add_subplot(111)\n",
        "cax = ax.matshow(conf_mat, cmap=plt.cm.Blues)\n",
        "fig.colorbar(cax)\n",
        "ax.set_xticklabels([''] + labels)\n",
        "ax.set_yticklabels([''] + labels)\n",
        "plt.xlabel('Predicted')\n",
        "plt.ylabel('Expected')\n",
        "plt.show()"
      ],
      "execution_count": 0,
      "outputs": [
        {
          "output_type": "stream",
          "text": [
            "Confusion matrix:\n",
            " [[489  40]\n",
            " [  0  47]]\n"
          ],
          "name": "stdout"
        },
        {
          "output_type": "display_data",
          "data": {
            "image/png": "[encoded data removed]",
            "text/plain": [
              "<Figure size 432x288 with 2 Axes>"
            ]
          },
          "metadata": {
            "tags": []
          }
        }
      ]
    }
  ]
}